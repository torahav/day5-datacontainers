{
 "cells": [
  {
   "cell_type": "code",
   "execution_count": 11,
   "id": "0a0b6222",
   "metadata": {},
   "outputs": [],
   "source": [
    "from scipy.linalg import *\n",
    "import numpy as np\n"
   ]
  },
  {
   "cell_type": "code",
   "execution_count": 12,
   "id": "ded4f6f8",
   "metadata": {},
   "outputs": [
    {
     "name": "stderr",
     "output_type": "stream",
     "text": [
      "/var/folders/wc/k3kd57cs68x_f3_7t6nvncmc0000gn/T/ipykernel_20743/527896159.py:11: LinAlgWarning: Ill-conditioned matrix (rcond=2.20282e-18): result may not be accurate.\n",
      "  x = solve(A,b)\n"
     ]
    },
    {
     "data": {
      "text/plain": [
       "array([-0.23333333,  0.46666667,  0.1       ])"
      ]
     },
     "execution_count": 12,
     "metadata": {},
     "output_type": "execute_result"
    }
   ],
   "source": [
    "# 1a,b,c\n",
    "\n",
    "#A = np.arange(1,10).reshape(3,3)\n",
    "#b = np.arange(1,4)\n",
    "#print(A)\n",
    "#print(b)\n",
    "\n",
    "A = np.array([[1,2,3], [4,5,6], [7,8,9]])\n",
    "b = np.array([1,2,3])\n",
    "\n",
    "x = solve(A,b)\n",
    "x"
   ]
  },
  {
   "cell_type": "code",
   "execution_count": 15,
   "id": "2c9454ba",
   "metadata": {},
   "outputs": [
    {
     "data": {
      "text/plain": [
       "array([0., 0., 0.])"
      ]
     },
     "execution_count": 15,
     "metadata": {},
     "output_type": "execute_result"
    }
   ],
   "source": [
    "# 1d, solution is correct\n",
    "np.dot(A, x) - b"
   ]
  },
  {
   "cell_type": "code",
   "execution_count": 29,
   "id": "cdc8fd25",
   "metadata": {},
   "outputs": [
    {
     "name": "stderr",
     "output_type": "stream",
     "text": [
      "/var/folders/wc/k3kd57cs68x_f3_7t6nvncmc0000gn/T/ipykernel_20743/1949490327.py:4: LinAlgWarning: Ill-conditioned matrix (rcond=2.20282e-18): result may not be accurate.\n",
      "  X = solve(A,B)\n"
     ]
    },
    {
     "data": {
      "text/plain": [
       "3.934781444641575"
      ]
     },
     "execution_count": 29,
     "metadata": {},
     "output_type": "execute_result"
    }
   ],
   "source": [
    "# 1e\n",
    "B = np.random.rand(3,3)\n",
    "# Answer will now be a matrix, X.\n",
    "X = solve(A,B)\n",
    "# Check solution\n",
    "sol = np.dot(A, X) - B\n",
    "norm(sol)\n",
    "\n",
    "# Wrong, should be 0? "
   ]
  },
  {
   "cell_type": "code",
   "execution_count": 36,
   "id": "f548d81b",
   "metadata": {},
   "outputs": [
    {
     "name": "stdout",
     "output_type": "stream",
     "text": [
      "[ 1.61168440e+01+0.j -1.11684397e+00+0.j -8.58274334e-16+0.j]\n",
      "[[-0.23197069 -0.78583024  0.40824829]\n",
      " [-0.52532209 -0.08675134 -0.81649658]\n",
      " [-0.8186735   0.61232756  0.40824829]]\n"
     ]
    }
   ],
   "source": [
    "# 1f, Eigenvalue problem for A\n",
    "\n",
    "evals, evecs = eig(A)\n",
    "\n",
    "print(evals)\n",
    "print(evecs)"
   ]
  },
  {
   "cell_type": "code",
   "execution_count": 38,
   "id": "38c51da5",
   "metadata": {},
   "outputs": [
    {
     "data": {
      "text/plain": [
       "2.3314683517128287e-15"
      ]
     },
     "execution_count": 38,
     "metadata": {},
     "output_type": "execute_result"
    }
   ],
   "source": [
    "# Check solution\n",
    "n = 1\n",
    "\n",
    "norm(np.dot(A, evecs[:,n]) - evals[n] * evecs[:,n])"
   ]
  },
  {
   "cell_type": "code",
   "execution_count": 42,
   "id": "42f22f36",
   "metadata": {},
   "outputs": [
    {
     "name": "stdout",
     "output_type": "stream",
     "text": [
      "[[ 3.15251974e+15 -6.30503948e+15  3.15251974e+15]\n",
      " [-6.30503948e+15  1.26100790e+16 -6.30503948e+15]\n",
      " [ 3.15251974e+15 -6.30503948e+15  3.15251974e+15]]\n",
      "0.0\n"
     ]
    }
   ],
   "source": [
    "# 1g, inverse and determinant of A\n",
    "\n",
    "I = inv(A)\n",
    "print(I)\n",
    "detA = det(A) \n",
    "print(detA) "
   ]
  },
  {
   "cell_type": "code",
   "execution_count": 47,
   "id": "7ce2f0ab",
   "metadata": {},
   "outputs": [
    {
     "data": {
      "text/plain": [
       "16.84810335261421"
      ]
     },
     "execution_count": 47,
     "metadata": {},
     "output_type": "execute_result"
    }
   ],
   "source": [
    "# 1h \n",
    "norm(A, ord=2)"
   ]
  },
  {
   "cell_type": "code",
   "execution_count": 51,
   "id": "e27d0894",
   "metadata": {},
   "outputs": [
    {
     "data": {
      "image/png": "[encoded data removed]",
      "text/plain": [
       "<Figure size 432x288 with 3 Axes>"
      ]
     },
     "metadata": {
      "needs_background": "light"
     },
     "output_type": "display_data"
    }
   ],
   "source": [
    "# Part 2 - statistics\n",
    "%matplotlib inline\n",
    "import matplotlib.pyplot as plt\n",
    "from scipy import stats\n",
    "\n",
    "# 1a discrete random variable X ~ Po\n",
    "X = stats.poisson(10)\n",
    "\n",
    "n = np.arange(0,25)\n",
    "\n",
    "fig, axes = plt.subplots(3,1, sharex=True)\n",
    "\n",
    "# plot PMF\n",
    "axes[0].step(n, X.pmf(n))\n",
    "\n",
    "# plot CDF\n",
    "axes[1].step(n, X.cdf(n))\n",
    "\n",
    "# plot histogram of 1000 random realizations of the stochastic variable X\n",
    "axes[2].hist(X.rvs(size=1000));"
   ]
  },
  {
   "cell_type": "code",
   "execution_count": 53,
   "id": "ac5c9975",
   "metadata": {},
   "outputs": [
    {
     "data": {
      "image/png": "[encoded data removed]",
      "text/plain": [
       "<Figure size 432x288 with 3 Axes>"
      ]
     },
     "metadata": {
      "needs_background": "light"
     },
     "output_type": "display_data"
    }
   ],
   "source": [
    "# 1b Y ~ N\n",
    "Y = stats.norm()\n",
    "\n",
    "x = np.linspace(-5,5,100)\n",
    "\n",
    "fig, axes = plt.subplots(3,1, sharex=True)\n",
    "\n",
    "# plot PDF\n",
    "axes[0].plot(x, Y.pdf(x))\n",
    "\n",
    "# plot CDF\n",
    "axes[1].plot(x, Y.cdf(x));\n",
    "\n",
    "# plot histogram of 1000 random realizations of the stochastic variable Y\n",
    "axes[2].hist(Y.rvs(size=1000), bins=50);"
   ]
  },
  {
   "cell_type": "code",
   "execution_count": 64,
   "id": "44db8c18",
   "metadata": {},
   "outputs": [
    {
     "name": "stdout",
     "output_type": "stream",
     "text": [
      "t-statistic = 92.69637393860218\n",
      "p-value = 0.0\n",
      "t-statistic = -0.5775357306548302\n",
      "p-value = 0.5636426825568158\n"
     ]
    }
   ],
   "source": [
    "#1c random data from X and Y come from different distriubtions\n",
    "t_statistic, p_value = stats.ttest_ind(X.rvs(size=1000), Y.rvs(size=1000))\n",
    "\n",
    "print(\"t-statistic =\", t_statistic)\n",
    "print(\"p-value =\", p_value)\n",
    "\n",
    "# random data from X and X come from the same distribution\n",
    "t_statistic, p_value = stats.ttest_ind(X.rvs(size=1000), X.rvs(size=1000))\n",
    "\n",
    "print(\"t-statistic =\", t_statistic)\n",
    "print(\"p-value =\", p_value)"
   ]
  },
  {
   "cell_type": "code",
   "execution_count": null,
   "id": "69814cab",
   "metadata": {},
   "outputs": [],
   "source": []
  }
 ],
 "metadata": {
  "kernelspec": {
   "display_name": "Python 3 (ipykernel)",
   "language": "python",
   "name": "python3"
  },
  "language_info": {
   "codemirror_mode": {
    "name": "ipython",
    "version": 3
   },
   "file_extension": ".py",
   "mimetype": "text/x-python",
   "name": "python",
   "nbconvert_exporter": "python",
   "pygments_lexer": "ipython3",
   "version": "3.9.7"
  }
 },
 "nbformat": 4,
 "nbformat_minor": 5
}
